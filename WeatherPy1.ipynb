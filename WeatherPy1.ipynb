{
 "cells": [
  {
   "cell_type": "markdown",
   "metadata": {},
   "source": [
    "# WeatherPy\n",
    "----\n",
    "\n",
    "### Analysis\n",
    "* As expected, the weather becomes significantly warmer as one approaches the equator (0 Deg. Latitude). More interestingly, however, is the fact that the southern hemisphere tends to be warmer this time of year than the northern hemisphere. This may be due to the tilt of the earth.\n",
    "* There is no strong relationship between latitude and cloudiness. However, it is interesting to see that a strong band of cities sits at 0, 80, and 100% cloudiness.\n",
    "* There is no strong relationship between latitude and wind speed. However, in northern hemispheres there is a flurry of cities with over 20 mph of wind.\n",
    "\n",
    "---\n",
    "\n",
    "#### Note\n",
    "* Instructions have been included for each segment. You do not have to follow them exactly, but they are included to help you think through the steps."
   ]
  },
  {
   "cell_type": "code",
   "execution_count": 2,
   "metadata": {
    "scrolled": true
   },
   "outputs": [],
   "source": [
    "# Dependencies and Setup[InternetShortcut]\n",
    "\n",
    "\n",
    "import matplotlib.pyplot as plt\n",
    "import pandas as pd\n",
    "import numpy as np\n",
    "import requests\n",
    "import json\n",
    "import time\n",
    "import datetime\n",
    "import random\n",
    "\n",
    "# Import API key\n",
    "import api_keys\n",
    "\n",
    "# Incorporated citipy to determine city based on latitude and longitude\n",
    "# Installed pip install citipy on GitBash\n",
    "\n",
    "from citipy import citipy \n",
    "\n",
    "\n",
    "# Range of latitudes and longitudes\n",
    "lat_range = (-90, 90)\n",
    "lng_range = (-180, 180)\n"
   ]
  },
  {
   "cell_type": "code",
   "execution_count": 3,
   "metadata": {},
   "outputs": [
    {
     "name": "stdout",
     "output_type": "stream",
     "text": [
      "            lat         lng City Country\n",
      "0     45.346481 -174.987297             \n",
      "1    -73.612709  144.235132             \n",
      "2     53.270013  124.650203             \n",
      "3    -84.068647  -44.883005             \n",
      "4    -37.142457 -111.854006             \n",
      "5     44.403094  107.183525             \n",
      "6      4.374898  -98.696742             \n",
      "7     13.762474   -4.700152             \n",
      "8      1.084982  -47.467324             \n",
      "9      9.773346  -95.899358             \n",
      "10    -7.868813   88.441657             \n",
      "11    21.639801   99.279928             \n",
      "12   -54.545455  168.076058             \n",
      "13     4.675768 -135.137200             \n",
      "14    16.979566  -44.848983             \n",
      "15   -81.330091   11.614062             \n",
      "16   -19.984927 -178.049923             \n",
      "17   -12.234085  -78.061469             \n",
      "18    63.200738  -66.090840             \n",
      "19   -59.377401 -163.705377             \n",
      "20     5.313608 -101.322765             \n",
      "21   -86.275133  -59.393036             \n",
      "22   -81.052965  133.897290             \n",
      "23    10.648718  157.432378             \n",
      "24   -49.172306   14.870605             \n",
      "25   -17.039734 -151.291446             \n",
      "26    69.426870  107.001673             \n",
      "27   -55.075546  -31.282143             \n",
      "28   -62.164389   76.673383             \n",
      "29    52.319115 -105.222471             \n",
      "...         ...         ...  ...     ...\n",
      "1470  -6.641642   39.345774             \n",
      "1471  57.124142  -60.707039             \n",
      "1472  33.833831   68.935030             \n",
      "1473 -38.911709  161.715893             \n",
      "1474 -31.120675 -113.743277             \n",
      "1475  63.772726    2.838130             \n",
      "1476 -55.409026   -8.589027             \n",
      "1477 -87.160791 -169.646557             \n",
      "1478 -57.251897 -166.989310             \n",
      "1479  38.296328   51.724451             \n",
      "1480 -88.198310  148.897281             \n",
      "1481 -22.155785 -109.846857             \n",
      "1482 -39.381668 -156.345586             \n",
      "1483 -45.360286 -127.586460             \n",
      "1484  87.773220  147.795877             \n",
      "1485  33.821666  178.901034             \n",
      "1486 -61.530143  -82.725837             \n",
      "1487  32.442780  -89.812832             \n",
      "1488  33.499230   80.044242             \n",
      "1489  35.426611   66.490230             \n",
      "1490  25.826641   42.086343             \n",
      "1491  40.740406   40.483278             \n",
      "1492 -70.962944   77.581824             \n",
      "1493 -67.528861  -15.929954             \n",
      "1494  -5.777601   89.027261             \n",
      "1495 -10.985268   31.925955             \n",
      "1496  37.440907 -140.975256             \n",
      "1497  36.220463  -10.674076             \n",
      "1498  65.390067  146.821677             \n",
      "1499  23.140784  -71.227207             \n",
      "\n",
      "[1500 rows x 4 columns]\n"
     ]
    }
   ],
   "source": [
    "lat=[]\n",
    "lng=[]\n",
    "lat_lng = []\n",
    "\n",
    "\n",
    "cities_dt = pd.DataFrame()\n",
    "\n",
    "\n",
    "cities_dt[\"lat\"] = [np.random.uniform(-90, 90) for x in range(1500)]\n",
    "cities_dt[\"lng\"] = [np.random.uniform(-180, 180) for x in range(1500)]\n",
    "cities_dt[\"City\"]= \"\"\n",
    "cities_dt[\"Country\" ] = \"\"\n",
    "\n",
    "\n",
    "\n",
    "print(cities_dt)\n"
   ]
  },
  {
   "cell_type": "code",
   "execution_count": 4,
   "metadata": {},
   "outputs": [
    {
     "name": "stdout",
     "output_type": "stream",
     "text": [
      "627\n"
     ]
    }
   ],
   "source": [
    "#Loop through the list of cities_dt and perform a request for data on each\n",
    "# Identify nearest city for each lat, lng combination\n",
    "cities=[]\n",
    "\n",
    "for index, row in cities_dt.iterrows():\n",
    "    city=citipy.nearest_city(row[\"lat\"],row[\"lng\"])\n",
    "    cities.append(city.city_name)\n",
    "cities_dt['City']=cities\n",
    "#cities_dt.head()\n",
    "\n",
    " # If the city is unique, then add it to a our cities list\n",
    "cities_dt=cities_dt.drop_duplicates(\"City\")\n",
    "\n",
    "    \n",
    "# Print the city count to confirm sufficient count\n",
    "print(len(cities_dt))\n",
    "\n"
   ]
  },
  {
   "cell_type": "code",
   "execution_count": 5,
   "metadata": {},
   "outputs": [],
   "source": [
    "# Save config information.\n",
    "#url = \"http://api.openweathermap.org/data/2.5/weather?\"\n",
    "#units = \"Imperial\"\n",
    "\n",
    "# Build partial query URL\n",
    "#query_url = f\"{url}appid={api_keys}&units={units}&q=\""
   ]
  },
  {
   "cell_type": "code",
   "execution_count": 20,
   "metadata": {},
   "outputs": [
    {
     "ename": "NameError",
     "evalue": "name 'pd' is not defined",
     "output_type": "error",
     "traceback": [
      "\u001b[1;31m---------------------------------------------------------------------------\u001b[0m",
      "\u001b[1;31mNameError\u001b[0m                                 Traceback (most recent call last)",
      "\u001b[1;32m<ipython-input-20-59902b7fa143>\u001b[0m in \u001b[0;36m<module>\u001b[1;34m()\u001b[0m\n\u001b[0;32m     30\u001b[0m \u001b[1;33m\u001b[0m\u001b[0m\n\u001b[0;32m     31\u001b[0m \u001b[1;31m# Convert to dataframe\u001b[0m\u001b[1;33m\u001b[0m\u001b[1;33m\u001b[0m\u001b[0m\n\u001b[1;32m---> 32\u001b[1;33m \u001b[0mcities_df\u001b[0m \u001b[1;33m=\u001b[0m \u001b[0mpd\u001b[0m\u001b[1;33m.\u001b[0m\u001b[0mDataFrame\u001b[0m\u001b[1;33m(\u001b[0m\u001b[0mweather_data_list\u001b[0m\u001b[1;33m)\u001b[0m\u001b[1;33m\u001b[0m\u001b[0m\n\u001b[0m\u001b[0;32m     33\u001b[0m \u001b[1;33m\u001b[0m\u001b[0m\n\u001b[0;32m     34\u001b[0m cities_df = weather_data_list[['City',\n",
      "\u001b[1;31mNameError\u001b[0m: name 'pd' is not defined"
     ]
    }
   ],
   "source": [
    "weather_data_list = []\n",
    "cities=[]\n",
    "url = \"http://api.openweathermap.org/data/2.5/weather?\"\n",
    "\n",
    "for i in range(len(cities)):\n",
    "    city = cities[i][0]\n",
    "    country = cities[i][1]\n",
    "        \n",
    "    query_url={'q': city + ',' + country,\n",
    "                  'units': 'imperial',\n",
    "                  'api_keys': api_keys}\n",
    "    \n",
    "    response = requests.get(url, params = query_url).json()\n",
    "\n",
    "    # Try-except because not every city in CityPy is found in OWM,\n",
    "    # about 13% attrition from the 1000 in the cities list\n",
    "    try:\n",
    "        weather_data_list.append({'City': city,\n",
    "                                  'Country': country,\n",
    "                                  'Longitude': response['coord']['lon'], \n",
    "                                  'Latitude': response['coord']['lat'],\n",
    "                                  'Max Temperature': response['main']['temp_max'],\n",
    "                                  'Humidity': response['main']['humidity'],\n",
    "                                  'Cloud Cover': response['clouds']['all'],\n",
    "                                  'Wind Speed': response['wind']['speed']\n",
    "                                 })\n",
    "        \n",
    "    except:\n",
    "        pass\n",
    "    \n",
    "# Convert to dataframe\n",
    "cities_df = DataFrame(weather_data_list)\n",
    "cities_df = [['City',\n",
    "                       'Country',\n",
    "                       'Longitude',\n",
    "                       'Latitude',\n",
    "                       'Max Temperature',\n",
    "                       'Humidity',\n",
    "                       'Cloud Cover',\n",
    "                       'Wind Speed']]\n",
    "\n",
    "cities_df.head()"
   ]
  },
  {
   "cell_type": "markdown",
   "metadata": {},
   "source": [
    "## Generate Cities List"
   ]
  },
  {
   "cell_type": "code",
   "execution_count": null,
   "metadata": {},
   "outputs": [],
   "source": [
    "# List for holding lat_lngs and cities\n",
    "#city_data=pd.DataFrame(\"lat\",\"Lng\",\"City\",\"Temperature\", \"Humidity\", \"Cloudness\", \"Wind Speed\")\n",
    "lat_lngs = []\n",
    "cities = []\n",
    "\n",
    "# Create a set of random lat and lng combinations\n",
    "lats = np.random.uniform(low=-90.000, high=90.000, size=1500)\n",
    "lngs = np.random.uniform(low=-180.000, high=180.000, size=1500)\n",
    "lat_lngs = zip(lats, lngs)\n",
    "\n",
    "# Identify nearest city for each lat, lng combination\n",
    "for lat_lng in lat_lngs:\n",
    "    city = citipy.nearest_city(lat_lng[0], lat_lng[1]).city_name\n",
    "    \n",
    "    # If the city is unique, then add it to a our cities list\n",
    "    if city not in cities:\n",
    "        cities.append(city)\n",
    "\n",
    "# Print the city count to confirm sufficient count\n",
    "len(cities)"
   ]
  },
  {
   "cell_type": "markdown",
   "metadata": {},
   "source": [
    "### Perform API Calls\n",
    "* Perform a weather check on each city using a series of successive API calls.\n",
    "* Include a print log of each city as it'sbeing processed (with the city number and city name).\n"
   ]
  },
  {
   "cell_type": "code",
   "execution_count": null,
   "metadata": {},
   "outputs": [],
   "source": []
  },
  {
   "cell_type": "markdown",
   "metadata": {},
   "source": [
    "### Convert Raw Data to DataFrame\n",
    "* Export the city data into a .csv.\n",
    "* Display the DataFrame"
   ]
  },
  {
   "cell_type": "code",
   "execution_count": null,
   "metadata": {},
   "outputs": [],
   "source": []
  },
  {
   "cell_type": "code",
   "execution_count": null,
   "metadata": {},
   "outputs": [],
   "source": []
  },
  {
   "cell_type": "markdown",
   "metadata": {},
   "source": [
    "### Plotting the Data\n",
    "* Use proper labeling of the plots using plot titles (including date of analysis) and axes labels.\n",
    "* Save the plotted figures as .pngs."
   ]
  },
  {
   "cell_type": "markdown",
   "metadata": {},
   "source": [
    "#### Latitude vs. Temperature Plot"
   ]
  },
  {
   "cell_type": "code",
   "execution_count": null,
   "metadata": {},
   "outputs": [],
   "source": []
  },
  {
   "cell_type": "markdown",
   "metadata": {},
   "source": [
    "#### Latitude vs. Humidity Plot"
   ]
  },
  {
   "cell_type": "code",
   "execution_count": null,
   "metadata": {},
   "outputs": [],
   "source": []
  },
  {
   "cell_type": "markdown",
   "metadata": {},
   "source": [
    "#### Latitude vs. Cloudiness Plot"
   ]
  },
  {
   "cell_type": "code",
   "execution_count": null,
   "metadata": {},
   "outputs": [],
   "source": []
  },
  {
   "cell_type": "markdown",
   "metadata": {},
   "source": [
    "#### Latitude vs. Wind Speed Plot"
   ]
  },
  {
   "cell_type": "code",
   "execution_count": null,
   "metadata": {},
   "outputs": [],
   "source": []
  },
  {
   "cell_type": "code",
   "execution_count": null,
   "metadata": {},
   "outputs": [],
   "source": []
  }
 ],
 "metadata": {
  "anaconda-cloud": {},
  "kernelspec": {
   "display_name": "Python 3",
   "language": "python",
   "name": "python3"
  },
  "language_info": {
   "codemirror_mode": {
    "name": "ipython",
    "version": 3
   },
   "file_extension": ".py",
   "mimetype": "text/x-python",
   "name": "python",
   "nbconvert_exporter": "python",
   "pygments_lexer": "ipython3",
   "version": "3.7.0"
  }
 },
 "nbformat": 4,
 "nbformat_minor": 2
}
