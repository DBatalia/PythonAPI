{
 "cells": [
  {
   "cell_type": "code",
   "execution_count": 1,
   "metadata": {},
   "outputs": [],
   "source": [
    "# Dependencies and Setup[InternetShortcut]\n",
    "\n",
    "import matplotlib.pyplot as plt\n",
    "import pandas as pd\n",
    "import numpy as np\n",
    "import requests\n",
    "import json\n",
    "import time\n",
    "import datetime\n",
    "import random\n",
    "\n",
    "# Import API key\n",
    "import api_keys\n",
    "\n",
    "# Incorporated citipy to determine city based on latitude and longitude\n",
    "# Installed pip install citipy on GitBash\n",
    "\n",
    "from citipy import citipy \n",
    "\n",
    "\n",
    "# Range of latitudes and longitudes\n",
    "lat_range = (-90, 90)\n",
    "lng_range = (-180, 180)\n",
    "\n"
   ]
  },
  {
   "cell_type": "code",
   "execution_count": 2,
   "metadata": {},
   "outputs": [
    {
     "name": "stdout",
     "output_type": "stream",
     "text": [
      "            lat         lng City Country\n",
      "0     88.545090  118.629916             \n",
      "1      5.324458 -122.484354             \n",
      "2     34.670841  -31.110881             \n",
      "3     -2.269732   24.108112             \n",
      "4     43.273033  164.960752             \n",
      "5     36.709697 -172.592732             \n",
      "6     39.069492  -37.881023             \n",
      "7     59.640237  -96.217818             \n",
      "8     28.287430  -53.948929             \n",
      "9     88.583099   24.781175             \n",
      "10   -20.228902  120.974581             \n",
      "11   -52.525357  177.090267             \n",
      "12    24.167960   22.082918             \n",
      "13    86.869726   34.522250             \n",
      "14   -12.376983   98.447393             \n",
      "15   -17.754144  107.880373             \n",
      "16   -42.822752 -159.344872             \n",
      "17    26.297279  -86.105616             \n",
      "18    44.944260 -173.510012             \n",
      "19   -83.965653 -110.319897             \n",
      "20    14.396005 -153.097876             \n",
      "21   -76.373823 -174.391411             \n",
      "22   -62.343124 -159.260328             \n",
      "23   -15.008265   67.552047             \n",
      "24    -2.412617  -85.350720             \n",
      "25     2.764416 -104.326400             \n",
      "26    76.693564  -33.468366             \n",
      "27    80.337693  -31.015542             \n",
      "28    38.396781 -172.336284             \n",
      "29   -26.913479  -90.269471             \n",
      "...         ...         ...  ...     ...\n",
      "1470  26.115054  177.231128             \n",
      "1471  16.959385   -2.703976             \n",
      "1472 -35.053451 -120.050208             \n",
      "1473 -67.075249 -169.486372             \n",
      "1474 -69.240039  130.403474             \n",
      "1475 -88.341098   31.709234             \n",
      "1476  65.948517  139.213815             \n",
      "1477  24.645154  144.386236             \n",
      "1478  21.610239  124.160504             \n",
      "1479  85.859650   30.337136             \n",
      "1480  12.617268  175.984037             \n",
      "1481 -28.986513    8.386339             \n",
      "1482  70.546149  -12.697527             \n",
      "1483 -44.377945   -2.314417             \n",
      "1484 -24.407740 -136.632793             \n",
      "1485 -49.755861  145.118167             \n",
      "1486 -63.783355  -79.439596             \n",
      "1487  73.939311   12.386345             \n",
      "1488 -89.203049 -126.752620             \n",
      "1489  52.813572  157.710518             \n",
      "1490  -6.274301  -56.339100             \n",
      "1491 -75.982844 -165.563979             \n",
      "1492  45.080684  -16.549653             \n",
      "1493  35.618037  123.663371             \n",
      "1494  60.501549   39.007669             \n",
      "1495  85.573073 -116.479685             \n",
      "1496  82.832848   40.126357             \n",
      "1497  -6.709047  -50.968622             \n",
      "1498 -20.537446  -89.652870             \n",
      "1499 -63.260541  -33.421616             \n",
      "\n",
      "[1500 rows x 4 columns]\n"
     ]
    }
   ],
   "source": [
    "lat=[]\n",
    "lng=[]\n",
    "lat_lng = []\n",
    "\n",
    "\n",
    "cities_dt = pd.DataFrame()\n",
    "\n",
    "\n",
    "cities_dt[\"lat\"] = [np.random.uniform(-90, 90) for x in range(1500)]\n",
    "cities_dt[\"lng\"] = [np.random.uniform(-180, 180) for x in range(1500)]\n",
    "cities_dt[\"City\"]= \"\"\n",
    "cities_dt[\"Country\" ] = \"\"\n",
    "\n",
    "\n",
    "\n",
    "print(cities_dt)"
   ]
  },
  {
   "cell_type": "code",
   "execution_count": 15,
   "metadata": {},
   "outputs": [
    {
     "name": "stdout",
     "output_type": "stream",
     "text": [
      "500\n"
     ]
    }
   ],
   "source": [
    "#Loop through the list of cities_dt and perform a request for data on each\n",
    "# Identify nearest city for each lat, lng combination\n",
    "cities=[]\n",
    "\n",
    "for index, row in cities_dt.iterrows():\n",
    "    city=citipy.nearest_city(row[\"lat\"],row[\"lng\"])\n",
    "    cities.append(city.city_name)\n",
    "cities_dt['City']=cities\n",
    "#cities_dt.head()\n",
    "\n",
    " # If the city is unique, then add it to a our cities list\n",
    "cities_dt = cities_dt.drop_duplicates(['City'], keep='first')\n",
    "\n",
    "# Randomly sample of 500 cities \n",
    "cities_dt=cities_dt.sample(n=500)\n",
    "    \n",
    "# Print the city count to confirm sufficient count\n",
    "print(len(cities_dt))\n",
    "    "
   ]
  },
  {
   "cell_type": "code",
   "execution_count": 4,
   "metadata": {},
   "outputs": [],
   "source": [
    "# Save config information.\n",
    "url = \"http://api.openweathermap.org/data/2.5/weather?\"\n",
    "units = \"Imperial\"\n",
    "\n",
    "# Build partial query URL\n",
    "query_url = f\"{url}appid={api_keys}&units={units}&q=\"\n",
    "\n",
    "\n"
   ]
  },
  {
   "cell_type": "code",
   "execution_count": 13,
   "metadata": {},
   "outputs": [
    {
     "ename": "KeyError",
     "evalue": "'coord'",
     "output_type": "error",
     "traceback": [
      "\u001b[1;31m---------------------------------------------------------------------------\u001b[0m",
      "\u001b[1;31mKeyError\u001b[0m                                  Traceback (most recent call last)",
      "\u001b[1;32m<ipython-input-13-07cb7ad87acd>\u001b[0m in \u001b[0;36m<module>\u001b[1;34m()\u001b[0m\n\u001b[0;32m     13\u001b[0m     \u001b[1;31m#lng.append(response['coord']['lon'])\u001b[0m\u001b[1;33m\u001b[0m\u001b[1;33m\u001b[0m\u001b[0m\n\u001b[0;32m     14\u001b[0m \u001b[1;33m\u001b[0m\u001b[0m\n\u001b[1;32m---> 15\u001b[1;33m     \u001b[0mlat\u001b[0m\u001b[1;33m.\u001b[0m\u001b[0mappend\u001b[0m\u001b[1;33m(\u001b[0m\u001b[0mresponse\u001b[0m\u001b[1;33m[\u001b[0m\u001b[1;34m'coord'\u001b[0m\u001b[1;33m]\u001b[0m\u001b[1;33m[\u001b[0m\u001b[1;34m'lat'\u001b[0m\u001b[1;33m]\u001b[0m\u001b[1;33m)\u001b[0m\u001b[1;33m\u001b[0m\u001b[0m\n\u001b[0m\u001b[0;32m     16\u001b[0m     \u001b[0mtemp\u001b[0m\u001b[1;33m.\u001b[0m\u001b[0mappend\u001b[0m\u001b[1;33m(\u001b[0m\u001b[0mresponse\u001b[0m\u001b[1;33m[\u001b[0m\u001b[1;34m'main'\u001b[0m\u001b[1;33m]\u001b[0m\u001b[1;33m[\u001b[0m\u001b[1;34m'temp'\u001b[0m\u001b[1;33m]\u001b[0m\u001b[1;33m)\u001b[0m\u001b[1;33m\u001b[0m\u001b[0m\n\u001b[0;32m     17\u001b[0m     \u001b[0mhumidity\u001b[0m\u001b[1;33m.\u001b[0m\u001b[0mappend\u001b[0m\u001b[1;33m(\u001b[0m\u001b[0mresponse\u001b[0m\u001b[1;33m[\u001b[0m\u001b[1;34m'main'\u001b[0m\u001b[1;33m]\u001b[0m\u001b[1;33m[\u001b[0m\u001b[1;34m'humidity'\u001b[0m\u001b[1;33m]\u001b[0m\u001b[1;33m)\u001b[0m\u001b[1;33m\u001b[0m\u001b[0m\n",
      "\u001b[1;31mKeyError\u001b[0m: 'coord'"
     ]
    }
   ],
   "source": [
    "\n",
    "# set up lists to hold reponse info\n",
    "cities=[]\n",
    "lat=[]\n",
    "lng=[]\n",
    "temp=[]\n",
    "humidity=[]\n",
    "cloud=[]\n",
    "wind=[]\n",
    "# Loop through the list of cities and perform a request for data on each\n",
    "for city in cities_dt:\n",
    "    response = requests.get(query_url).json()\n",
    "    #lng.append(response['coord']['lon'])\n",
    "    lat.append(response['coord']['lat'])\n",
    "    temp.append(response['main']['temp'])\n",
    "    humidity.append(response['main']['humidity'])\n",
    "    cloud.append(response['clouds']['all'])\n",
    "    wind.append(response['wind']['speed'])\n",
    "    \n",
    "print(f\"The latitude information received is: {lat}\")\n",
    "print(f\"The temperature information received is: {temp}\")\n",
    "print(f\"The humidity information received is: {humidity}\")"
   ]
  },
  {
   "cell_type": "code",
   "execution_count": null,
   "metadata": {},
   "outputs": [],
   "source": []
  }
 ],
 "metadata": {
  "kernelspec": {
   "display_name": "Python 3",
   "language": "python",
   "name": "python3"
  },
  "language_info": {
   "codemirror_mode": {
    "name": "ipython",
    "version": 3
   },
   "file_extension": ".py",
   "mimetype": "text/x-python",
   "name": "python",
   "nbconvert_exporter": "python",
   "pygments_lexer": "ipython3",
   "version": "3.7.0"
  }
 },
 "nbformat": 4,
 "nbformat_minor": 2
}
